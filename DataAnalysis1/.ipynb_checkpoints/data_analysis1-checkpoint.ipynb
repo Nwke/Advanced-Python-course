{
 "cells": [
  {
   "cell_type": "code",
   "execution_count": 97,
   "metadata": {},
   "outputs": [],
   "source": [
    "import pandas as pd\n",
    "import os"
   ]
  },
  {
   "cell_type": "code",
   "execution_count": 162,
   "metadata": {},
   "outputs": [],
   "source": [
    "path_to_data = os.path.join('data_csv')"
   ]
  },
  {
   "cell_type": "code",
   "execution_count": 156,
   "metadata": {},
   "outputs": [],
   "source": [
    "def count_top3(years):\n",
    "    df = pd.DataFrame()\n",
    "    for year in years:\n",
    "            path = os.path.join(DATA_PATH, f'yob{year}.txt')\n",
    "            frame = pd.read_csv(path, names=['Name', 'Gender', 'Count'])\n",
    "            df = pd.concat([df, frame], sort=False)\n",
    "    return df.sort_values('Count').iloc[::-1].head(3)\n"
   ]
  },
  {
   "cell_type": "code",
   "execution_count": 160,
   "metadata": {},
   "outputs": [
    {
     "data": {
      "text/html": [
       "<div>\n",
       "<style scoped>\n",
       "    .dataframe tbody tr th:only-of-type {\n",
       "        vertical-align: middle;\n",
       "    }\n",
       "\n",
       "    .dataframe tbody tr th {\n",
       "        vertical-align: top;\n",
       "    }\n",
       "\n",
       "    .dataframe thead th {\n",
       "        text-align: right;\n",
       "    }\n",
       "</style>\n",
       "<table border=\"1\" class=\"dataframe\">\n",
       "  <thead>\n",
       "    <tr style=\"text-align: right;\">\n",
       "      <th></th>\n",
       "      <th>Name</th>\n",
       "      <th>Gender</th>\n",
       "      <th>Count</th>\n",
       "    </tr>\n",
       "  </thead>\n",
       "  <tbody>\n",
       "    <tr>\n",
       "      <th>16941</th>\n",
       "      <td>Jacob</td>\n",
       "      <td>M</td>\n",
       "      <td>35361</td>\n",
       "    </tr>\n",
       "    <tr>\n",
       "      <th>16942</th>\n",
       "      <td>Michael</td>\n",
       "      <td>M</td>\n",
       "      <td>33912</td>\n",
       "    </tr>\n",
       "    <tr>\n",
       "      <th>16943</th>\n",
       "      <td>Matthew</td>\n",
       "      <td>M</td>\n",
       "      <td>30415</td>\n",
       "    </tr>\n",
       "  </tbody>\n",
       "</table>\n",
       "</div>"
      ],
      "text/plain": [
       "          Name Gender  Count\n",
       "16941    Jacob      M  35361\n",
       "16942  Michael      M  33912\n",
       "16943  Matthew      M  30415"
      ]
     },
     "execution_count": 160,
     "metadata": {},
     "output_type": "execute_result"
    }
   ],
   "source": [
    "count_top3([2015, 2016, 2013, 1999])"
   ]
  },
  {
   "cell_type": "code",
   "execution_count": 166,
   "metadata": {},
   "outputs": [
    {
     "name": "stdout",
     "output_type": "stream",
     "text": [
      "Динамика мужчин: \n",
      "150483\n",
      "1790549\n",
      "1962969\n",
      "Динамика женщин: \n",
      "299800\n",
      "1713151\n",
      "1815110\n"
     ]
    }
   ],
   "source": [
    "def count_dynamics(years):\n",
    "    mens = []\n",
    "    girls = []\n",
    "    for year in years:\n",
    "            path = os.path.join(DATA_PATH, f'yob{year}.txt')\n",
    "            frame = pd.read_csv(path, names=['Name', 'Gender', 'Count'])\n",
    "            girls.append(frame.query('Gender == \"F\"').Count.sum())\n",
    "            mens.append(frame.query('Gender == \"M\"').Count.sum())\n",
    "    \n",
    "    print('Динамика мужчин: ')\n",
    "    for men in mens:\n",
    "        print(men)\n",
    "        \n",
    "    print('Динамика женщин: ')\n",
    "    for girl in girls:\n",
    "        print(girl)\n",
    "\n",
    "\n",
    "count_dynamics([1900, 1950, 2000])"
   ]
  }
 ],
 "metadata": {
  "kernelspec": {
   "display_name": "Python 3",
   "language": "python",
   "name": "python3"
  },
  "language_info": {
   "codemirror_mode": {
    "name": "ipython",
    "version": 3
   },
   "file_extension": ".py",
   "mimetype": "text/x-python",
   "name": "python",
   "nbconvert_exporter": "python",
   "pygments_lexer": "ipython3",
   "version": "3.7.1"
  }
 },
 "nbformat": 4,
 "nbformat_minor": 2
}
